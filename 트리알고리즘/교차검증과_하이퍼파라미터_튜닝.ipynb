{
  "nbformat": 4,
  "nbformat_minor": 0,
  "metadata": {
    "colab": {
      "provenance": [],
      "authorship_tag": "ABX9TyPeVuDmpUmUGZKb41K3lQ7u",
      "include_colab_link": true
    },
    "kernelspec": {
      "name": "python3",
      "display_name": "Python 3"
    },
    "language_info": {
      "name": "python"
    }
  },
  "cells": [
    {
      "cell_type": "markdown",
      "metadata": {
        "id": "view-in-github",
        "colab_type": "text"
      },
      "source": [
        "<a href=\"https://colab.research.google.com/github/dangeunii/AI_code/blob/main/%ED%8A%B8%EB%A6%AC%EC%95%8C%EA%B3%A0%EB%A6%AC%EC%A6%98/%EA%B5%90%EC%B0%A8%EA%B2%80%EC%A6%9D%EA%B3%BC_%ED%95%98%EC%9D%B4%ED%8D%BC%ED%8C%8C%EB%9D%BC%EB%AF%B8%ED%84%B0_%ED%8A%9C%EB%8B%9D.ipynb\" target=\"_parent\"><img src=\"https://colab.research.google.com/assets/colab-badge.svg\" alt=\"Open In Colab\"/></a>"
      ]
    },
    {
      "cell_type": "markdown",
      "source": [
        "# **교차검증과 그리드 서치**"
      ],
      "metadata": {
        "id": "GOYK-U6C-Gy0"
      }
    },
    {
      "cell_type": "markdown",
      "source": [
        "# 교차검증\n",
        "\n",
        " 훈련세트, 테스트 세트 외에도 검증세트(validation set)가 필요\n",
        "  - 훈련세트는 훈련을 위해서 사용, 테스트 세트는 실전을 위해서 한번만 사용\n",
        "  - 머신러닝 모델을 최적화하는 과정에서 검증을 위한 데이터 세트가 필요함\n",
        "  - 일반적으로 훈련세트에서 검증세트를 추출\n",
        "\n"
      ],
      "metadata": {
        "id": "h4dTManA94OB"
      }
    },
    {
      "cell_type": "code",
      "execution_count": 16,
      "metadata": {
        "id": "ql_iQHRm6RkA"
      },
      "outputs": [],
      "source": [
        "## 데이터 준비\n",
        "import pandas as pd\n",
        "\n",
        "wine = pd.read_csv('https://bit.ly/wine_csv_data')\n",
        "data = wine[['alcohol','sugar','pH']].to_numpy()\n",
        "target = wine['class'].to_numpy()"
      ]
    },
    {
      "cell_type": "code",
      "source": [
        "from sklearn.model_selection import train_test_split\n",
        "\n",
        "train_input, test_input, train_target, test_target = train_test_split(\n",
        "    data, target, test_size=0.2, random_state = 42)\n",
        "print(train_input.shape, test_input.shape)"
      ],
      "metadata": {
        "colab": {
          "base_uri": "https://localhost:8080/"
        },
        "id": "qT_onEPh-wp2",
        "outputId": "cd138a79-2f0e-4e3c-cf2b-1beea2277906"
      },
      "execution_count": 17,
      "outputs": [
        {
          "output_type": "stream",
          "name": "stdout",
          "text": [
            "(5197, 3) (1300, 3)\n"
          ]
        }
      ]
    },
    {
      "cell_type": "code",
      "source": [
        "## 훈련세트를 검증세트와 훈련세트로 나누어줌\n",
        "sub_input, val_input, sub_target, val_target = train_test_split(\n",
        "    train_input, train_target, test_size = 0.2, random_state=42)\n",
        "\n",
        "print(sub_input.shape, val_input.shape)"
      ],
      "metadata": {
        "colab": {
          "base_uri": "https://localhost:8080/"
        },
        "id": "DEjKzIu3W0Uc",
        "outputId": "fbc112ec-f1b5-49fb-8209-d04bb4892bf0"
      },
      "execution_count": 18,
      "outputs": [
        {
          "output_type": "stream",
          "name": "stdout",
          "text": [
            "(4157, 3) (1040, 3)\n"
          ]
        }
      ]
    },
    {
      "cell_type": "code",
      "source": [
        "from sklearn.tree import DecisionTreeClassifier\n",
        "\n",
        "dt = DecisionTreeClassifier(random_state = 42)\n",
        "dt.fit(sub_input, sub_target)\n",
        "\n",
        "print(dt.score(sub_input, sub_target))\n",
        "print(dt.score(val_input, val_target))\n",
        "print(dt.score(test_input, test_target))"
      ],
      "metadata": {
        "colab": {
          "base_uri": "https://localhost:8080/"
        },
        "id": "3sm3pz24XXtg",
        "outputId": "9eb82fc7-5c38-4724-d55e-4cae1880676c"
      },
      "execution_count": 21,
      "outputs": [
        {
          "output_type": "stream",
          "name": "stdout",
          "text": [
            "0.9971133028626413\n",
            "0.864423076923077\n",
            "0.8569230769230769\n"
          ]
        }
      ]
    },
    {
      "cell_type": "markdown",
      "source": [
        "# 교차 검증\n",
        "\n",
        "훈련데이터 세트가 클수록 성능이 높아짐\n",
        "\n",
        "  - 검증세트를 최대한 활용하도록 함 -> 교차검증\n",
        "  - k-fold cross validation : 훈련세트를 몇 부분(k)으로 나누어 모델 훈련을 수행\n",
        "  - k번 모델 훈련을 수행한 검증 점수의 평균으로 검증점수 결정\n",
        "  - 5-폴드 교차검정(데이터세트 80% 사용), 10-폴드 교차검정(데이터세트 90% 사용)\n",
        "\n",
        "  - sklearn.model_selection.cross_validate()\n",
        "    : 모델과 데이터세트에 대한 교차 검증 수행\n",
        " \n",
        "    - 기본 설정 : 5- 폴드 교차 검증\n",
        "    - 출력값 : fit_time, score_time, test_score\n",
        "    - 훈련세트를 섞지 않기에 결과가 치우칠 우려있음 -> 분할기(splitter) 지정 필요\n",
        "\n",
        "  - sklearn,model_selection.StratifiedKFold()\n",
        "    : 계층적 k-폴드 분할에 사용\n",
        "\n",
        "    - n_splits : 분리할 데이터 셋의 개수, k-폴드의 k값, 기본값(5)\n",
        "    - shuffle : 배치로 분활하기 전에 각 클래스의 샘플을 섞음\n",
        "    - test_size : 테스트 세트의 비율 지정\n",
        "    - train_size :  훈련세트의 비율 지정"
      ],
      "metadata": {
        "id": "3XKX1lr-XZNF"
      }
    },
    {
      "cell_type": "code",
      "source": [
        "## 교차 검증 수행 후 결과\n",
        "\n",
        "from sklearn.model_selection import cross_validate\n",
        "\n",
        "scores = cross_validate(dt, train_input, train_target)\n",
        "print(scores)\n"
      ],
      "metadata": {
        "colab": {
          "base_uri": "https://localhost:8080/"
        },
        "id": "Ai_-AnGwYO5L",
        "outputId": "95c129ba-a502-4b18-92af-d289b7fb1d7e"
      },
      "execution_count": 22,
      "outputs": [
        {
          "output_type": "stream",
          "name": "stdout",
          "text": [
            "{'fit_time': array([0.00774789, 0.00688481, 0.00736117, 0.00715852, 0.00678658]), 'score_time': array([0.00066566, 0.00058222, 0.00063181, 0.00058985, 0.00056767]), 'test_score': array([0.86923077, 0.84615385, 0.87680462, 0.84889317, 0.83541867])}\n"
          ]
        }
      ]
    },
    {
      "cell_type": "code",
      "source": [
        "## 교차검증의 평균 출력\n",
        "import numpy as np\n",
        "\n",
        "print(np.mean(scores['test_score']))"
      ],
      "metadata": {
        "colab": {
          "base_uri": "https://localhost:8080/"
        },
        "id": "WAoMraIgY5ji",
        "outputId": "a984f3c4-2e6e-4c82-ece6-346c5aedc022"
      },
      "execution_count": 24,
      "outputs": [
        {
          "output_type": "stream",
          "name": "stdout",
          "text": [
            "0.855300214703487\n"
          ]
        }
      ]
    },
    {
      "cell_type": "code",
      "source": [
        "## 데이터 세트를 섞어서 10-폴드로 수행\n",
        "from sklearn.model_selection import StratifiedKFold\n",
        "\n",
        "scores = cross_validate(dt, train_input, train_target, cv=StratifiedKFold())\n",
        "print(np.mean(scores['test_score']))"
      ],
      "metadata": {
        "colab": {
          "base_uri": "https://localhost:8080/"
        },
        "id": "z_N-SY20Z_EI",
        "outputId": "6e999d72-53c9-4464-9e9e-cd4360767bcb"
      },
      "execution_count": 29,
      "outputs": [
        {
          "output_type": "stream",
          "name": "stdout",
          "text": [
            "0.855300214703487\n"
          ]
        }
      ]
    },
    {
      "cell_type": "code",
      "source": [
        "splitter = StratifiedKFold(n_splits=10, shuffle=True, random_state=42)\n",
        "scores = cross_validate(dt, train_input, train_target, cv = splitter)\n",
        "print(np.mean(scores['test_score']))"
      ],
      "metadata": {
        "colab": {
          "base_uri": "https://localhost:8080/"
        },
        "id": "zzg3FYBHamgo",
        "outputId": "072d13e0-20cc-4133-c984-384dedaa4b3f"
      },
      "execution_count": 30,
      "outputs": [
        {
          "output_type": "stream",
          "name": "stdout",
          "text": [
            "0.8574181117533719\n"
          ]
        }
      ]
    },
    {
      "cell_type": "markdown",
      "source": [
        "# 모델 최적화 - 하이퍼 파라미터 튜닝\n",
        "\n",
        "\n",
        "\n",
        "*   하이퍼 파라미터 튜닝\n",
        "    - 하이퍼 파라미터 : 머신러닝 모델이 학습하는 모델 파라미터에 사용자가 지정하는 파라미터\n",
        "    - 하이퍼 파라미터의 최적화를 위해 모델의 매개변수를 변경하면서 훈련 및 교차 검증 수행\n",
        "    - 결정트리의 경우 max_depth, main_samples_split 값 변경하면서 최적의 값을 찾을 수 있다.\n",
        "*   그리드 서치(grid search)\n",
        "   - 매개변수의 조합을 반복적으로 적용하면서 훈련 및 교차검증을 수행하면서 결과 출력\n",
        "   - GridSearchCV 클래스로 하이퍼 파라미터 탐색과 교차검증 수행(for문 대신)\n",
        "\n"
      ],
      "metadata": {
        "id": "sawpnvkcboxe"
      }
    },
    {
      "cell_type": "markdown",
      "source": [
        "# 랜덤 서치(random search)\n",
        "\n",
        "- 모델 최적화를 위한 매개변수값이 너무 많을 때\n",
        "- 매개변수 값 목록 전달 -> 매개변수 샘플링을 위한 확률 분포 객체 전달\n",
        "\n",
        "\n",
        "  - scipy.stats.uniform() : 균등하기 연속적인 실수 값 출력 / uniforn.rvs() : 출력 개수 지정\n",
        "  - scipy.stats.randint() : 균등하게 임의의 정수 값 출력 / randint.rvs() : 출력 개수 지정\n",
        "  - sklearn.model_selection.RandomizedSearchCV()\n",
        "    - estimator : 모델 객체 지정\n",
        "    - param_distributions : 하이퍼파라미터 목록\n",
        "    - cv : 교차 검증 폴드 수\n",
        "    - n_iter : 파라미터 검색 횟수\n",
        "    - [결과] cv_results_ : 파라미터 조합별 결과 조회\n",
        "    - [결과] best_params_ : 가장 좋은 성능을 낸 parameter 조합 조회\n",
        "    - [결과] best_estimator_ : 가장 좋은 성능을 낸 모델 반환 "
      ],
      "metadata": {
        "id": "O6d2rl86dEon"
      }
    },
    {
      "cell_type": "code",
      "source": [
        "from scipy.stats import uniform, randint\n",
        "\n",
        "rgen = randint(0,10)\n",
        "rgen.rvs(10)"
      ],
      "metadata": {
        "colab": {
          "base_uri": "https://localhost:8080/"
        },
        "id": "6rW1O9lMdU7c",
        "outputId": "981180de-a4a5-4787-d015-e30dc31c273a"
      },
      "execution_count": 31,
      "outputs": [
        {
          "output_type": "execute_result",
          "data": {
            "text/plain": [
              "array([3, 2, 2, 3, 2, 6, 6, 9, 7, 1])"
            ]
          },
          "metadata": {},
          "execution_count": 31
        }
      ]
    },
    {
      "cell_type": "code",
      "source": [
        "np.unique(rgen.rvs(1000), return_counts=True)"
      ],
      "metadata": {
        "colab": {
          "base_uri": "https://localhost:8080/"
        },
        "id": "VyzMQPwskJi4",
        "outputId": "6e311af1-9006-4f59-f67e-dbd2ad4f38e0"
      },
      "execution_count": 32,
      "outputs": [
        {
          "output_type": "execute_result",
          "data": {
            "text/plain": [
              "(array([0, 1, 2, 3, 4, 5, 6, 7, 8, 9]),\n",
              " array([ 98,  97, 107, 109,  89, 106,  91, 106, 109,  88]))"
            ]
          },
          "metadata": {},
          "execution_count": 32
        }
      ]
    },
    {
      "cell_type": "code",
      "source": [
        "ugen = uniform(0,1)\n",
        "ugen.rvs(10)"
      ],
      "metadata": {
        "colab": {
          "base_uri": "https://localhost:8080/"
        },
        "id": "F58M5WtKkQtf",
        "outputId": "cd3bcadf-6dc5-49a7-d0b9-cb6ca809c11d"
      },
      "execution_count": 33,
      "outputs": [
        {
          "output_type": "execute_result",
          "data": {
            "text/plain": [
              "array([0.43550888, 0.3538995 , 0.83852249, 0.55993858, 0.50924591,\n",
              "       0.88324213, 0.57012634, 0.66682773, 0.09829837, 0.79574611])"
            ]
          },
          "metadata": {},
          "execution_count": 33
        }
      ]
    },
    {
      "cell_type": "code",
      "source": [
        "## 매개변수 값 목록 전달 -> 매개변수 샘플링을 위한 확률분포 객체 전달\n",
        "\n",
        "params = {\n",
        "    'min_impurity_decrease': uniform(0.0001,0.001),\n",
        "    'max_depth' : randint(20,50),\n",
        "    'min_samples_split' : randint(2,25),\n",
        "    'min_samples_leaf' : randint(1,25), \n",
        "}\n",
        "\n",
        "from sklearn.model_selection import RandomizedSearchCV\n",
        "\n",
        "gs = RandomizedSearchCV(DecisionTreeClassifier(random_state =42), params,\n",
        "                        n_iter=100, n_jobs=-1, random_state=42)\n",
        "gs.fit(train_input,train_target)"
      ],
      "metadata": {
        "colab": {
          "base_uri": "https://localhost:8080/"
        },
        "id": "c3n9KTrokXRu",
        "outputId": "a041fe58-44d4-4cc5-bc0d-a2dc01ac6bc2"
      },
      "execution_count": 34,
      "outputs": [
        {
          "output_type": "execute_result",
          "data": {
            "text/plain": [
              "RandomizedSearchCV(estimator=DecisionTreeClassifier(random_state=42),\n",
              "                   n_iter=100, n_jobs=-1,\n",
              "                   param_distributions={'max_depth': <scipy.stats._distn_infrastructure.rv_frozen object at 0x7fc82fa8e2d0>,\n",
              "                                        'min_impurity_decrease': <scipy.stats._distn_infrastructure.rv_frozen object at 0x7fc82fa8e910>,\n",
              "                                        'min_samples_leaf': <scipy.stats._distn_infrastructure.rv_frozen object at 0x7fc82fc5c950>,\n",
              "                                        'min_samples_split': <scipy.stats._distn_infrastructure.rv_frozen object at 0x7fc82fa8e510>},\n",
              "                   random_state=42)"
            ]
          },
          "metadata": {},
          "execution_count": 34
        }
      ]
    },
    {
      "cell_type": "code",
      "source": [
        "## 결과 확인\n",
        "print(gs.best_params_)"
      ],
      "metadata": {
        "colab": {
          "base_uri": "https://localhost:8080/"
        },
        "id": "ir4_RfFalhX7",
        "outputId": "b182272f-d2a3-4478-9b15-da0bf6a45605"
      },
      "execution_count": 35,
      "outputs": [
        {
          "output_type": "stream",
          "name": "stdout",
          "text": [
            "{'max_depth': 39, 'min_impurity_decrease': 0.00034102546602601173, 'min_samples_leaf': 7, 'min_samples_split': 13}\n"
          ]
        }
      ]
    },
    {
      "cell_type": "code",
      "source": [
        "## 최적화 모델 평가\n",
        "print(np.max(gs.cv_results_['mean_test_score']))"
      ],
      "metadata": {
        "colab": {
          "base_uri": "https://localhost:8080/"
        },
        "id": "jrEpoL-nlnmL",
        "outputId": "a28c13d0-4c18-45ed-bfff-b915e39e66fe"
      },
      "execution_count": 36,
      "outputs": [
        {
          "output_type": "stream",
          "name": "stdout",
          "text": [
            "0.8695428296438884\n"
          ]
        }
      ]
    },
    {
      "cell_type": "markdown",
      "source": [
        "# 확인 문제\n",
        "\n",
        "위의 RandomizedSearchCV 실습에서 DecisionTreeClassifier 클래스에 splitter ='random' 매개변수를 추가하고 다시 훈련해보세요.\n",
        "splitter 매개변수의 기본값은 'best'로 각 노드에서 최선의 분할을 찾습니다.\n",
        "'random'이면 무작위로 분할한 다음 가장 좋은 것을 고릅니다.\n",
        "테스트 세트의 성능이 어떻게 변했는지 확인하시오."
      ],
      "metadata": {
        "id": "iNfGZ5i5lxE7"
      }
    },
    {
      "cell_type": "code",
      "source": [
        "## 매개변수 값 목록 전달/ splitter 추가\n",
        "\n",
        "gs = RandomizedSearchCV(DecisionTreeClassifier(splitter = 'random',random_state =42), params,\n",
        "                        n_iter=100, n_jobs=-1, random_state=42)\n",
        "\n",
        "gs.fit(train_input,train_target)"
      ],
      "metadata": {
        "colab": {
          "base_uri": "https://localhost:8080/"
        },
        "id": "J1GQhXNJmmQp",
        "outputId": "bf94637d-fd5e-4450-f1ad-04e515632c05"
      },
      "execution_count": 37,
      "outputs": [
        {
          "output_type": "execute_result",
          "data": {
            "text/plain": [
              "RandomizedSearchCV(estimator=DecisionTreeClassifier(random_state=42,\n",
              "                                                    splitter='random'),\n",
              "                   n_iter=100, n_jobs=-1,\n",
              "                   param_distributions={'max_depth': <scipy.stats._distn_infrastructure.rv_frozen object at 0x7fc82fa8e2d0>,\n",
              "                                        'min_impurity_decrease': <scipy.stats._distn_infrastructure.rv_frozen object at 0x7fc82fa8e910>,\n",
              "                                        'min_samples_leaf': <scipy.stats._distn_infrastructure.rv_frozen object at 0x7fc82fc5c950>,\n",
              "                                        'min_samples_split': <scipy.stats._distn_infrastructure.rv_frozen object at 0x7fc82fa8e510>},\n",
              "                   random_state=42)"
            ]
          },
          "metadata": {},
          "execution_count": 37
        }
      ]
    },
    {
      "cell_type": "code",
      "source": [
        "## 결과 확인\n",
        "print(gs.best_params_)"
      ],
      "metadata": {
        "colab": {
          "base_uri": "https://localhost:8080/"
        },
        "id": "MbCKrzW6nKYX",
        "outputId": "def800d2-ebb5-4f33-e861-6beaf4c0be74"
      },
      "execution_count": 38,
      "outputs": [
        {
          "output_type": "stream",
          "name": "stdout",
          "text": [
            "{'max_depth': 43, 'min_impurity_decrease': 0.00011407982271508446, 'min_samples_leaf': 19, 'min_samples_split': 18}\n"
          ]
        }
      ]
    },
    {
      "cell_type": "code",
      "source": [
        "## 최적화 모델 평가\n",
        "## 성능이 다소 하락함\n",
        "print(np.max(gs.cv_results_['mean_test_score']))"
      ],
      "metadata": {
        "colab": {
          "base_uri": "https://localhost:8080/"
        },
        "id": "e02VOmD-nOko",
        "outputId": "9b27c4ae-820e-4958-94e7-852952055db4"
      },
      "execution_count": 39,
      "outputs": [
        {
          "output_type": "stream",
          "name": "stdout",
          "text": [
            "0.8458726956392981\n"
          ]
        }
      ]
    }
  ]
}